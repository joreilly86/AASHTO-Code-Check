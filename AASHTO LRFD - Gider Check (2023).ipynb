{
 "cells": [
  {
   "attachments": {},
   "cell_type": "markdown",
   "metadata": {},
   "source": [
    "#### Project: Salton Sea Species Conservations Habitat Project\n",
    "P/A No: DV103-00668/07\n",
    "\n",
    "Task 00500: Item 0502.0001: Temporary Bridge over New River\n",
    "\n",
    "Title: LRFD Steel Girder SuperStructure Design per AASHTO\n",
    "\n",
    "Engineer: James O'Reilly\n",
    "\n",
    "Date: 2023 Feb 21\n",
    "\n",
    "Example taken from https://www.fhwa.dot.gov/bridge/lrfd/us_ds3.cfm"
   ]
  },
  {
   "cell_type": "code",
   "execution_count": null,
   "metadata": {},
   "outputs": [],
   "source": [
    "# install relevant packages\n",
    "import numpy as np\n",
    "import pandas as pd\n",
    "import"
   ]
  },
  {
   "cell_type": "code",
   "execution_count": null,
   "metadata": {},
   "outputs": [],
   "source": [
    "# Design Criteria and Inputs\n",
    "num_spans = 1\n",
    "span_length = 98 #ft"
   ]
  }
 ],
 "metadata": {
  "kernelspec": {
   "display_name": "Python 3",
   "language": "python",
   "name": "python3"
  },
  "language_info": {
   "name": "python",
   "version": "3.11.0"
  },
  "orig_nbformat": 4,
  "vscode": {
   "interpreter": {
    "hash": "a82dc607730a41346da23d9ba9b9884260e14c0cebc29c9851a46f2fad4ba0cc"
   }
  }
 },
 "nbformat": 4,
 "nbformat_minor": 2
}
